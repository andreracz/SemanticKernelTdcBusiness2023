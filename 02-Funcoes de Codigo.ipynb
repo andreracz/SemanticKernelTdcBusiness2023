{
 "cells": [
  {
   "cell_type": "code",
   "execution_count": 1,
   "metadata": {
    "dotnet_interactive": {
     "language": "csharp"
    },
    "polyglot_notebook": {
     "kernelName": "csharp"
    },
    "vscode": {
     "languageId": "polyglot-notebook"
    }
   },
   "outputs": [
    {
     "data": {
      "text/html": [
       "<div><div></div><div></div><div><strong>Installed Packages</strong><ul><li><span>Microsoft.SemanticKernel, 0.23.230906.2-preview</span></li></ul></div></div>"
      ]
     },
     "metadata": {},
     "output_type": "display_data"
    }
   ],
   "source": [
    "#!import config/Settings.cs \n",
    "\n",
    "// Import Semantic Kernel\n",
    "#r \"nuget: Microsoft.SemanticKernel, 0.23.230906.2-preview\"\n",
    "using Microsoft.SemanticKernel;\n",
    "using Microsoft.SemanticKernel.Orchestration;\n",
    "using Microsoft.SemanticKernel.Planning;\n",
    "using Microsoft.SemanticKernel.Planning.Sequential;\n",
    "\n",
    "//Create Kernel builder\n",
    "var builder = new KernelBuilder();\n",
    "\n",
    "var (useAzureOpenAI, model, azureEndpoint, apiKey, orgId) = Settings.LoadFromFile();\n",
    "\n",
    "if (useAzureOpenAI)\n",
    "    builder.WithAzureChatCompletionService(model, azureEndpoint, apiKey);\n",
    "else\n",
    "    builder.WithOpenAIChatCompletionService(model, apiKey, orgId);\n",
    "\n",
    "IKernel kernel = builder.Build();"
   ]
  },
  {
   "cell_type": "code",
   "execution_count": 2,
   "metadata": {
    "dotnet_interactive": {
     "language": "csharp"
    },
    "polyglot_notebook": {
     "kernelName": "csharp"
    },
    "vscode": {
     "languageId": "polyglot-notebook"
    }
   },
   "outputs": [],
   "source": [
    "#!import skills/CodeSkills/MathPlugin.cs \n"
   ]
  },
  {
   "cell_type": "code",
   "execution_count": 3,
   "metadata": {
    "dotnet_interactive": {
     "language": "csharp"
    },
    "polyglot_notebook": {
     "kernelName": "csharp"
    },
    "vscode": {
     "languageId": "polyglot-notebook"
    }
   },
   "outputs": [],
   "source": [
    "var mathPlugin = kernel.ImportSkill(new MathPlugin(), \"MathPlugin\");\n",
    "\n",
    "var planner = new SequentialPlanner(kernel);"
   ]
  },
  {
   "cell_type": "code",
   "execution_count": 4,
   "metadata": {
    "dotnet_interactive": {
     "language": "csharp"
    },
    "polyglot_notebook": {
     "kernelName": "csharp"
    },
    "vscode": {
     "languageId": "polyglot-notebook"
    }
   },
   "outputs": [
    {
     "name": "stdout",
     "output_type": "stream",
     "text": [
      "Plan:\n",
      "{\n",
      "  \"state\": [\n",
      "    {\n",
      "      \"Key\": \"INPUT\",\n",
      "      \"Value\": \"\"\n",
      "    }\n",
      "  ],\n",
      "  \"steps\": [\n",
      "    {\n",
      "      \"state\": [\n",
      "        {\n",
      "          \"Key\": \"INPUT\",\n",
      "          \"Value\": \"\"\n",
      "        }\n",
      "      ],\n",
      "      \"steps\": [],\n",
      "      \"parameters\": [\n",
      "        {\n",
      "          \"Key\": \"INPUT\",\n",
      "          \"Value\": \"2130.23\"\n",
      "        },\n",
      "        {\n",
      "          \"Key\": \"number2\",\n",
      "          \"Value\": \"1.23\"\n",
      "        }\n",
      "      ],\n",
      "      \"outputs\": [\n",
      "        \"INCREASED_INVESTMENT\"\n",
      "      ],\n",
      "      \"next_step_index\": 0,\n",
      "      \"name\": \"Multiply\",\n",
      "      \"skill_name\": \"MathPlugin\",\n",
      "      \"description\": \"Multiply two numbers. When increasing by a percentage, don\\u0027t forget to add 1 to the percentage.\"\n",
      "    },\n",
      "    {\n",
      "      \"state\": [\n",
      "        {\n",
      "          \"Key\": \"INPUT\",\n",
      "          \"Value\": \"\"\n",
      "        }\n",
      "      ],\n",
      "      \"steps\": [],\n",
      "      \"parameters\": [\n",
      "        {\n",
      "          \"Key\": \"INPUT\",\n",
      "          \"Value\": \"$INCREASED_INVESTMENT\"\n",
      "        },\n",
      "        {\n",
      "          \"Key\": \"number2\",\n",
      "          \"Value\": \"10\"\n",
      "        }\n",
      "      ],\n",
      "      \"outputs\": [\n",
      "        \"RESULT__FINAL_AMOUNT\"\n",
      "      ],\n",
      "      \"next_step_index\": 0,\n",
      "      \"name\": \"Subtract\",\n",
      "      \"skill_name\": \"MathPlugin\",\n",
      "      \"description\": \"Subtract two numbers\"\n",
      "    }\n",
      "  ],\n",
      "  \"parameters\": [\n",
      "    {\n",
      "      \"Key\": \"INPUT\",\n",
      "      \"Value\": \"\"\n",
      "    }\n",
      "  ],\n",
      "  \"outputs\": [\n",
      "    \"RESULT__FINAL_AMOUNT\"\n",
      "  ],\n",
      "  \"next_step_index\": 0,\n",
      "  \"name\": \"\",\n",
      "  \"skill_name\": \"Microsoft.SemanticKernel.Planning.Plan\",\n",
      "  \"description\": \"Se meu investimento de 2130.23 reais aumentar por 23%, quanto eu terei depois de gastas 10 em um p\\u00E3o de queijo?\"\n",
      "}\n",
      "Plan results:\n",
      "2610.1829\n"
     ]
    }
   ],
   "source": [
    "// Create a plan for the ask\n",
    "var ask = \"Se meu investimento de 2130.23 reais aumentar por 23%, quanto eu terei depois de gastas 10 em um pão de queijo?\";\n",
    "var plan = await planner.CreatePlanAsync(ask);\n",
    "\n",
    "Console.WriteLine(\"Plan:\");\n",
    "Console.WriteLine(plan.ToJson(true));\n",
    "// Execute the plan\n",
    "var result = await plan.InvokeAsync();\n",
    "\n",
    "\n",
    "Console.WriteLine(\"Plan results:\");\n",
    "Console.WriteLine(result.Result);"
   ]
  }
 ],
 "metadata": {
  "language_info": {
   "name": "python"
  },
  "orig_nbformat": 4
 },
 "nbformat": 4,
 "nbformat_minor": 2
}
