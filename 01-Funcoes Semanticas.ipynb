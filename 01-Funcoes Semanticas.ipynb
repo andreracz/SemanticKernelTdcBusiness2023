{
 "cells": [
  {
   "cell_type": "code",
   "execution_count": 1,
   "metadata": {
    "dotnet_interactive": {
     "language": "csharp"
    },
    "polyglot_notebook": {
     "kernelName": "csharp"
    },
    "vscode": {
     "languageId": "polyglot-notebook"
    }
   },
   "outputs": [
    {
     "data": {
      "text/html": [
       "<div><div></div><div></div><div><strong>Installed Packages</strong><ul><li><span>Microsoft.SemanticKernel, 0.21.230828.2-preview</span></li></ul></div></div>"
      ]
     },
     "metadata": {},
     "output_type": "display_data"
    }
   ],
   "source": [
    "// Load some helper functions, e.g. to load values from settings.json\n",
    "#!import config/Settings.cs \n",
    "\n",
    "// Import Semantic Kernel\n",
    "#r \"nuget: Microsoft.SemanticKernel, 0.21.230828.2-preview\""
   ]
  },
  {
   "cell_type": "code",
   "execution_count": 2,
   "metadata": {
    "dotnet_interactive": {
     "language": "csharp"
    },
    "polyglot_notebook": {
     "kernelName": "csharp"
    },
    "vscode": {
     "languageId": "polyglot-notebook"
    }
   },
   "outputs": [],
   "source": [
    "using Microsoft.SemanticKernel;\n",
    "\n",
    "//Create Kernel builder\n",
    "var builder = new KernelBuilder();"
   ]
  },
  {
   "cell_type": "code",
   "execution_count": 3,
   "metadata": {
    "dotnet_interactive": {
     "language": "csharp"
    },
    "polyglot_notebook": {
     "kernelName": "csharp"
    },
    "vscode": {
     "languageId": "polyglot-notebook"
    }
   },
   "outputs": [],
   "source": [
    "// Configure AI service credentials used by the kernel\n",
    "var (useAzureOpenAI, model, azureEndpoint, apiKey, orgId) = Settings.LoadFromFile();\n",
    "\n",
    "if (useAzureOpenAI)\n",
    "    builder.WithAzureChatCompletionService(model, azureEndpoint, apiKey);\n",
    "else\n",
    "    builder.WithOpenAIChatCompletionService(model, apiKey, orgId);\n",
    "\n",
    "IKernel kernel = builder.Build();"
   ]
  },
  {
   "cell_type": "code",
   "execution_count": 4,
   "metadata": {
    "dotnet_interactive": {
     "language": "csharp"
    },
    "polyglot_notebook": {
     "kernelName": "csharp"
    },
    "vscode": {
     "languageId": "polyglot-notebook"
    }
   },
   "outputs": [
    {
     "name": "stdout",
     "output_type": "stream",
     "text": [
      "Título: \"KEDA: Desvendando o Autoscaling Orientado a Eventos no Kubernetes\"\n",
      "\n",
      "Resumo: A palestra irá explorar o KEDA (Kubernetes-based Event Driven Autoscaler), uma solução inovadora para o autoscaling orientado a eventos no ambiente Kubernetes. Os participantes irão aprender como o KEDA pode ser usado para escalar automaticamente os pods com base em métricas de eventos, permitindo uma utilização mais eficiente dos recursos. A sessão também irá abordar a integração do KEDA com diferentes fontes de eventos, como Kafka, RabbitMQ e Azure Event Hubs, além de demonstrar como implementar o KEDA em um projeto real. Esta palestra é ideal para desenvolvedores e arquitetos de software que buscam otimizar a escalabilidade e o desempenho de suas aplicações em Kubernetes.\r\n"
     ]
    }
   ],
   "source": [
    "//Diretorio de Skills \n",
    "var skillsDirectory = Path.Combine(System.IO.Directory.GetCurrentDirectory(), \"skills\"); \n",
    "\n",
    "// Carrega os skills do diretorio\n",
    "var skills = kernel.ImportSemanticSkillFromDirectory(skillsDirectory, \"FirstSkills\");\n",
    "\n",
    "// Chama a função do skill Abstract\n",
    "var result = await skills[\"Abstract\"].InvokeAsync(\"KEDA, the Kubernetes-based Event Driven Autoscaler.\");\n",
    "\n",
    "// Return the result to the Notebook\n",
    "Console.WriteLine(result);"
   ]
  }
 ],
 "metadata": {
  "language_info": {
   "name": "python"
  },
  "orig_nbformat": 4
 },
 "nbformat": 4,
 "nbformat_minor": 2
}
