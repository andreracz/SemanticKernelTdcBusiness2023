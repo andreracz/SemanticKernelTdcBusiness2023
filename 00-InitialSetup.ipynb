{
 "cells": [
  {
   "cell_type": "code",
   "execution_count": 1,
   "metadata": {
    "dotnet_interactive": {
     "language": "csharp"
    },
    "polyglot_notebook": {
     "kernelName": "csharp"
    }
   },
   "outputs": [
    {
     "data": {
      "text/html": [
       "<div><div></div><div></div><div><strong>Installed Packages</strong><ul><li><span>Microsoft.SemanticKernel, 0.21.230828.2-preview</span></li></ul></div></div>"
      ]
     },
     "metadata": {},
     "output_type": "display_data"
    }
   ],
   "source": [
    "// Load some helper functions, e.g. to load values from settings.json\n",
    "#!import config/Settings.cs \n",
    "\n",
    "// Import Semantic Kernel\n",
    "#r \"nuget: Microsoft.SemanticKernel, 0.21.230828.2-preview\""
   ]
  },
  {
   "cell_type": "code",
   "execution_count": 2,
   "metadata": {
    "dotnet_interactive": {
     "language": "csharp"
    },
    "polyglot_notebook": {
     "kernelName": "csharp"
    }
   },
   "outputs": [],
   "source": [
    "using Microsoft.SemanticKernel;\n",
    "using Microsoft.SemanticKernel.SemanticFunctions;\n",
    "\n",
    "//Create Kernel builder\n",
    "var builder = new KernelBuilder();"
   ]
  },
  {
   "cell_type": "code",
   "execution_count": 3,
   "metadata": {
    "dotnet_interactive": {
     "language": "csharp"
    },
    "polyglot_notebook": {
     "kernelName": "csharp"
    }
   },
   "outputs": [],
   "source": [
    "// Configure AI service credentials used by the kernel\n",
    "var (useAzureOpenAI, model, azureEndpoint, apiKey, orgId) = Settings.LoadFromFile();\n",
    "\n",
    "if (useAzureOpenAI)\n",
    "    builder.WithAzureChatCompletionService(model, azureEndpoint, apiKey);\n",
    "else\n",
    "    builder.WithOpenAIChatCompletionService(model, apiKey, orgId);\n",
    "\n",
    "IKernel kernel = builder.Build();"
   ]
  },
  {
   "cell_type": "code",
   "execution_count": 5,
   "metadata": {
    "dotnet_interactive": {
     "language": "csharp"
    },
    "polyglot_notebook": {
     "kernelName": "csharp"
    }
   },
   "outputs": [
    {
     "name": "stdout",
     "output_type": "stream",
     "text": [
      "O ChatGPT é um chatbot de inteligência artificial desenvolvido pela OpenAI, baseado nos modelos GPT-3.5 e GPT-4, e ajustado para aplicações conversacionais. Ele é capaz de realizar várias tarefas, como escrever e depurar programas de computador, compor música, responder a perguntas de teste, entre outros, e tem sido elogiado por suas respostas detalhadas e articuladas. No entanto, o ChatGPT também tem limitações, incluindo a produção de respostas que parecem plausíveis, mas são incorretas ou sem sentido, e um conhecimento limitado dos eventos ocorridos após setembro de 2021.\n",
      "\r\n"
     ]
    }
   ],
   "source": [
    "//Prompt\n",
    "string skPrompt = \"\"\"\n",
    "{{$input}}\n",
    "\n",
    "Resuma o conteúdo acima em 3 frases:\n",
    "\"\"\";\n",
    "var summaryFunction = kernel.CreateSemanticFunction(skPrompt, maxTokens: 2000, temperature: 0.2, topP: 0.5);\n",
    "\n",
    "var input = \n",
    "\"\"\"\n",
    "ChatGPT (do inglês: Chat Generative Pre-Trained Transformer) é um chatbot online de inteligência artificial (IA) desenvolvido pela OpenAI, lançado em novembro de 2022. O nome \"ChatGPT\" combina \"Chat\", referindo-se à sua funcionalidade de chatbot, e \"GPT\", que significa Generative Pre-trained Transformer (Transformador Pré-treinado Generativo, em tradução livre), um tipo de modelo de linguagem grande (Large Language Model, LLM, na sigla em inglês). O ChatGPT é construído com base nos modelos GPT fundamentais da OpenAI, especificamente GPT-3.5 e GPT-4, e foi ajustado para aplicações conversacionais usando uma combinação de técnicas de aprendizado supervisionado e de reforço. No dia 15 de março de 2023 foi lançado somente para os usuários do ChatGPT Plus o GPT-4.\n",
    "\n",
    "O ChatGPT é um protótipo de inteligência artificial que chamou a atenção por suas respostas detalhadas e articuladas, embora a precisão de suas informações tenha sido criticada. Segundo o NY Times, o entusiasmo em torno da aplicação da tecnologia de OpenAI lembrou outros momentos que \"viraram o Vale do Silício de cabeça para baixo, desde a chegada do primeiro iPhone e do mecanismo de busca Google até o introdução do navegador Netscape, que preparou o cenário para a comercialização da internet\".[1] Para Bill Gates, o ChatGPT vai mudar o mundo: \"Até agora, a inteligência artificial podia ler e escrever, mas não conseguia entender o conteúdo. Os novos programas como o ChatGPT vão tornar muitos trabalhos de escritório mais eficientes. Isso vai mudar o nosso mundo\".[2]\n",
    "\n",
    "Embora a função principal de um chatbot seja imitar um conversador humano, o ChatGPT é versátil. Por exemplo, ele pode escrever e depurar programas de computador, compor música, teleplays, contos de fadas e redações de estudantes; responda às perguntas do teste (às vezes, dependendo do teste, em um nível acima da média do candidato humano); escrever poesia e letras de músicas; emular um sistema Linux; simular uma sala de bate-papo inteira; jogar jogos como tic-tac-toe; e simular um caixa eletrônico. Os dados de treinamento do ChatGPT incluem páginas de manual e informações sobre fenômenos da Internet e linguagens de programação, como sistemas de quadro de avisos e a linguagem de programação Python.\n",
    "\n",
    "Em comparação com seu antecessor, InstructGPT, o ChatGPT tenta reduzir as respostas prejudiciais e enganosas. Em um exemplo, enquanto o InstructGPT aceita a premissa do prompt \"Fale-me sobre quando Cristóvão Colombo veio para os EUA em 2015\" como sendo verdadeiro, o ChatGPT reconhece a natureza contrafactual da pergunta e enquadra sua resposta como uma consideração hipotética de o que poderia acontecer se Colombo viesse aos EUA em 2015, usando informações sobre as viagens de Cristóvão Colombo e fatos sobre o mundo moderno – incluindo percepções modernas das ações de Colombo.\n",
    "\n",
    "Ao contrário da maioria dos chatbots, o ChatGPT lembra os prompts anteriores dados a ele na mesma conversa; jornalistas sugeriram que isso permitirá que o ChatGPT seja usado como um terapeuta personalizado. Para evitar que resultados ofensivos sejam apresentados e produzidos a partir do ChatGPT, as consultas são filtradas por meio da API de moderação de toda a empresa da OpenAI; e solicitações potencialmente racistas ou sexistas são descartadas.\n",
    "\n",
    "O ChatGPT sofre de múltiplas limitações. A OpenAI reconheceu que o ChatGPT \"às vezes escreve respostas que parecem plausíveis, mas incorretas ou sem sentido\". Esse comportamento é comum a grandes modelos de linguagem e é chamado de alucinação de inteligência artificial. O modelo de recompensa do ChatGPT, projetado em torno da supervisão humana, pode ser superotimizado e, assim, prejudicar o desempenho, também conhecido como lei de Goodhart. O ChatGPT tem conhecimento limitado dos eventos ocorridos após setembro de 2021. De acordo com a BBC, a partir de dezembro de 2022, o ChatGPT não tem permissão para \"expressar opiniões políticas ou se envolver em ativismo político\". No entanto, a pesquisa sugere que o ChatGPT exibe uma orientação pró-ambiental e libertária de esquerda quando solicitado a tomar uma posição sobre declarações políticas de dois aplicativos de conselho de votação estabelecidos. No treinamento do ChatGPT, os revisores humanos preferiram respostas mais longas, independentemente da compreensão real ou do conteúdo factual.\n",
    "\"\"\";\n",
    "\n",
    "var summary = await summaryFunction.InvokeAsync(input);\n",
    "Console.WriteLine(summary);"
   ]
  }
 ],
 "metadata": {
  "kernelspec": {
   "display_name": ".NET (C#)",
   "language": "C#",
   "name": ".net-csharp"
  },
  "language_info": {
   "name": "polyglot-notebook"
  },
  "orig_nbformat": 4,
  "polyglot_notebook": {
   "kernelInfo": {
    "defaultKernelName": "csharp",
    "items": [
     {
      "aliases": [],
      "name": "csharp"
     }
    ]
   }
  }
 },
 "nbformat": 4,
 "nbformat_minor": 2
}
