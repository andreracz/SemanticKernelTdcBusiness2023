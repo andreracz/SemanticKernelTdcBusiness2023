{
 "cells": [
  {
   "cell_type": "code",
   "execution_count": 17,
   "metadata": {
    "dotnet_interactive": {
     "language": "csharp"
    },
    "polyglot_notebook": {
     "kernelName": "csharp"
    },
    "vscode": {
     "languageId": "polyglot-notebook"
    }
   },
   "outputs": [
    {
     "data": {
      "text/html": [
       "<div><div></div><div></div><div><strong>Installed Packages</strong><ul><li><span>Microsoft.SemanticKernel, 0.23.230906.2-preview</span></li></ul></div></div>"
      ]
     },
     "metadata": {},
     "output_type": "display_data"
    }
   ],
   "source": [
    "#!import config/Settings.cs \n",
    "\n",
    "// Import Semantic Kernel\n",
    "#r \"nuget: Microsoft.SemanticKernel, 0.23.230906.2-preview\"\n",
    "using Microsoft.SemanticKernel;\n",
    "using Microsoft.SemanticKernel.Orchestration;\n",
    "using Microsoft.SemanticKernel.Planning;\n",
    "using Microsoft.SemanticKernel.Planning.Sequential;\n",
    "using Microsoft.SemanticKernel.Planning.Stepwise;\n",
    "using System.Text.Json;\n",
    "using System.Collections.Generic;\n",
    "\n",
    "//Create Kernel builder\n",
    "var builder = new KernelBuilder();\n",
    "\n",
    "var (useAzureOpenAI, model, azureEndpoint, apiKey, orgId) = Settings.LoadFromFile();\n",
    "\n",
    "if (useAzureOpenAI)\n",
    "    builder.WithAzureChatCompletionService(model, azureEndpoint, apiKey);\n",
    "else\n",
    "    builder.WithOpenAIChatCompletionService(model, apiKey, orgId);\n",
    "\n",
    "IKernel kernel = builder.Build();"
   ]
  },
  {
   "cell_type": "code",
   "execution_count": 18,
   "metadata": {
    "dotnet_interactive": {
     "language": "csharp"
    },
    "polyglot_notebook": {
     "kernelName": "csharp"
    },
    "vscode": {
     "languageId": "polyglot-notebook"
    }
   },
   "outputs": [],
   "source": [
    "#!import skills/Bank/ContaCorrente.cs \n",
    "#!import skills/Bank/Boleto.cs \n",
    "#!import skills/Bank/BankSkills.cs \n"
   ]
  },
  {
   "cell_type": "code",
   "execution_count": 19,
   "metadata": {
    "dotnet_interactive": {
     "language": "csharp"
    },
    "polyglot_notebook": {
     "kernelName": "csharp"
    },
    "vscode": {
     "languageId": "polyglot-notebook"
    }
   },
   "outputs": [],
   "source": [
    "var contaCorrentPrincipal = new ContaCorrente(\"123\", \"eu@contoso.com\");\n",
    "contaCorrentPrincipal.Depositar(1000);\n",
    "\n",
    "Dictionary<string, ContaCorrente> contasCorrentes = new Dictionary<string, ContaCorrente>() {\n",
    "    { \"André\", new ContaCorrente(\"456\", \"andre@contoso.com\") },\n",
    "    { \"João\", new ContaCorrente(\"789\", \"joao@contoso.com\") }\n",
    "};\n",
    "\n",
    "\n",
    "Boleto[] boletos = { Boleto.Criar(\"1\", 450), Boleto.Criar(\"2\", 150) , Boleto.Criar(\"3\", 1500) };\n",
    "\n",
    "var bankSkills = kernel.ImportSkill(new BankSkills(contaCorrentPrincipal, boletos, contasCorrentes), \"BankSkills\");\n",
    "\n",
    "var planner = new StepwisePlanner(kernel);"
   ]
  },
  {
   "cell_type": "code",
   "execution_count": null,
   "metadata": {
    "dotnet_interactive": {
     "language": "csharp"
    },
    "polyglot_notebook": {
     "kernelName": "csharp"
    },
    "vscode": {
     "languageId": "polyglot-notebook"
    }
   },
   "outputs": [
    {
     "name": "stdout",
     "output_type": "stream",
     "text": [
      "Boletos Pendentes: \n",
      "Numero:1 - Valor:450\n",
      "Numero:2 - Valor:150\n",
      "Numero:3 - Valor:1500\n",
      "\n",
      "Saldo: 1000\n",
      "Pagar Boleto 1 chamado\n"
     ]
    }
   ],
   "source": [
    "// Create a plan for the ask\n",
    "var ask = \"Pagar todos os boletos e tranferir 300 para o João. Não deixe o saldo negativo, e retorne o saldo final e os boletos que foram pagos. Priorize os de maior valor\";\n",
    "var plan = planner.CreatePlan(ask);\n",
    "\n",
    "//Console.WriteLine(\"Plan:\");\n",
    "//Console.WriteLine(plan.ToJson(true));\n",
    "// Execute the plan\n",
    "var result = await plan.InvokeAsync();\n",
    "\n",
    "\n",
    "\n",
    "var steps = JsonSerializer.Deserialize<List<SystemStep>>(result.Variables[\"stepsTaken\"]);\n",
    "Console.WriteLine(\"Steps taken:\");\n",
    "foreach (SystemStep step in steps)\n",
    "{\n",
    "    Console.WriteLine(\"---------\");\n",
    "    Console.WriteLine(\"OriginalResponse : \" + step.OriginalResponse );\n",
    "    Console.WriteLine(\"Thought: \" + step.Thought);\n",
    "    Console.WriteLine(\"Action: \" + step.Action);\n",
    "    Console.WriteLine(\"Observation: \" + step.Observation);\n",
    "    Console.WriteLine(\"FinalAnswer: \" + step.FinalAnswer);\n",
    "}\n",
    "\n",
    "Console.WriteLine(\"Resposta:\");\n",
    "Console.WriteLine(result.Result);\n"
   ]
  }
 ],
 "metadata": {
  "language_info": {
   "name": "python"
  },
  "orig_nbformat": 4
 },
 "nbformat": 4,
 "nbformat_minor": 2
}
