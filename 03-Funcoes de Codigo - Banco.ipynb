{
 "cells": [
  {
   "cell_type": "code",
   "execution_count": 17,
   "metadata": {
    "dotnet_interactive": {
     "language": "csharp"
    },
    "polyglot_notebook": {
     "kernelName": "csharp"
    },
    "vscode": {
     "languageId": "polyglot-notebook"
    }
   },
   "outputs": [
    {
     "data": {
      "text/html": [
       "<div><div></div><div></div><div><strong>Installed Packages</strong><ul><li><span>Microsoft.SemanticKernel, 0.23.230906.2-preview</span></li></ul></div></div>"
      ]
     },
     "metadata": {},
     "output_type": "display_data"
    }
   ],
   "source": [
    "#!import config/Settings.cs \n",
    "\n",
    "// Import Semantic Kernel\n",
    "#r \"nuget: Microsoft.SemanticKernel, 0.23.230906.2-preview\"\n",
    "using Microsoft.SemanticKernel;\n",
    "using Microsoft.SemanticKernel.Orchestration;\n",
    "using Microsoft.SemanticKernel.Planning;\n",
    "using Microsoft.SemanticKernel.Planning.Sequential;\n",
    "using Microsoft.SemanticKernel.Planning.Stepwise;\n",
    "using System.Text.Json;\n",
    "using System.Collections.Generic;\n",
    "\n",
    "//Create Kernel builder\n",
    "var builder = new KernelBuilder();\n",
    "\n",
    "var (useAzureOpenAI, model, azureEndpoint, apiKey, orgId) = Settings.LoadFromFile();\n",
    "\n",
    "if (useAzureOpenAI)\n",
    "    builder.WithAzureChatCompletionService(model, azureEndpoint, apiKey);\n",
    "else\n",
    "    builder.WithOpenAIChatCompletionService(model, apiKey, orgId);\n",
    "\n",
    "IKernel kernel = builder.Build();"
   ]
  },
  {
   "cell_type": "code",
   "execution_count": 18,
   "metadata": {
    "dotnet_interactive": {
     "language": "csharp"
    },
    "polyglot_notebook": {
     "kernelName": "csharp"
    },
    "vscode": {
     "languageId": "polyglot-notebook"
    }
   },
   "outputs": [],
   "source": [
    "#!import skills/Bank/ContaCorrente.cs \n",
    "#!import skills/Bank/Boleto.cs \n",
    "#!import skills/Bank/BankSkills.cs \n"
   ]
  },
  {
   "cell_type": "code",
   "execution_count": 19,
   "metadata": {
    "dotnet_interactive": {
     "language": "csharp"
    },
    "polyglot_notebook": {
     "kernelName": "csharp"
    },
    "vscode": {
     "languageId": "polyglot-notebook"
    }
   },
   "outputs": [],
   "source": [
    "var contaCorrentPrincipal = new ContaCorrente(\"123\", \"eu@contoso.com\");\n",
    "contaCorrentPrincipal.Depositar(1000);\n",
    "\n",
    "Dictionary<string, ContaCorrente> contasCorrentes = new Dictionary<string, ContaCorrente>() {\n",
    "    { \"André\", new ContaCorrente(\"456\", \"andre@contoso.com\") },\n",
    "    { \"João\", new ContaCorrente(\"789\", \"joao@contoso.com\") }\n",
    "};\n",
    "\n",
    "\n",
    "Boleto[] boletos = { Boleto.Criar(\"1\", 450), Boleto.Criar(\"2\", 150) , Boleto.Criar(\"3\", 1500) };\n",
    "\n",
    "var bankSkills = kernel.ImportSkill(new BankSkills(contaCorrentPrincipal, boletos, contasCorrentes), \"BankSkills\");\n",
    "\n",
    "var planner = new StepwisePlanner(kernel);"
   ]
  },
  {
   "cell_type": "code",
   "execution_count": 20,
   "metadata": {
    "dotnet_interactive": {
     "language": "csharp"
    },
    "polyglot_notebook": {
     "kernelName": "csharp"
    },
    "vscode": {
     "languageId": "polyglot-notebook"
    }
   },
   "outputs": [
    {
     "name": "stdout",
     "output_type": "stream",
     "text": [
      "Boletos Pendentes: \n",
      "Numero:1 - Valor:450\n",
      "Numero:2 - Valor:150\n",
      "Numero:3 - Valor:1500\n",
      "\n",
      "Saldo: 1000\n",
      "Pagar Boleto 1 chamado\n",
      "Saldo: 550\n",
      "Pagar Boleto 2 chamado\n",
      "Saldo: 400\n",
      "ObterContaRelacionada João chamado\n",
      "Transferir 300 para 789 chamado\n",
      "Saldo: 100\n",
      "Steps taken:\n",
      "---------\n",
      "OriginalResponse : [THOUGHT]\n",
      "Para resolver essa questão, precisamos seguir os seguintes passos:\n",
      "\n",
      "1. Obter os boletos pendentes.\n",
      "2. Classificar os boletos em ordem decrescente de valor.\n",
      "3. Pagar os boletos um por um, verificando o saldo após cada pagamento para garantir que não fique negativo.\n",
      "4. Obter o número da conta do João.\n",
      "5. Transferir 300 para o João, se o saldo permitir.\n",
      "6. Obter o saldo final.\n",
      "\n",
      "Vamos começar obtendo os boletos pendentes.[ACTION]\n",
      "{\n",
      "  \"action\": \"BankSkills.BoletosPendentes\"\n",
      "}\n",
      "Thought: Para resolver essa questão, precisamos seguir os seguintes passos:\n",
      "\n",
      "1. Obter os boletos pendentes.\n",
      "2. Classificar os boletos em ordem decrescente de valor.\n",
      "3. Pagar os boletos um por um, verificando o saldo após cada pagamento para garantir que não fique negativo.\n",
      "4. Obter o número da conta do João.\n",
      "5. Transferir 300 para o João, se o saldo permitir.\n",
      "6. Obter o saldo final.\n",
      "\n",
      "Vamos começar obtendo os boletos pendentes.\n",
      "Action: BankSkills.BoletosPendentes\n",
      "Observation: Boletos Pendentes: \n",
      "Numero:1 - Valor:450\n",
      "Numero:2 - Valor:150\n",
      "Numero:3 - Valor:1500\n",
      "\n",
      "FinalAnswer: \n",
      "---------\n",
      "OriginalResponse : [THOUGHT] Agora que temos os boletos pendentes, precisamos classificá-los em ordem decrescente de valor. No entanto, como não temos uma função para classificar os boletos, teremos que pagar os boletos na ordem em que foram apresentados, começando pelo boleto de maior valor (1500), seguido pelo boleto de 450 e, finalmente, o boleto de 150. Antes de pagar cada boleto, precisamos verificar o saldo para garantir que não fique negativo. Vamos começar verificando o saldo atual.\n",
      "[ACTION] {\"action\": \"BankSkills.Saldo\",\"action_variables\": {}}\n",
      "Thought: Agora que temos os boletos pendentes, precisamos classificá-los em ordem decrescente de valor. No entanto, como não temos uma função para classificar os boletos, teremos que pagar os boletos na ordem em que foram apresentados, começando pelo boleto de maior valor (1500), seguido pelo boleto de 450 e, finalmente, o boleto de 150. Antes de pagar cada boleto, precisamos verificar o saldo para garantir que não fique negativo. Vamos começar verificando o saldo atual.\n",
      "Action: BankSkills.Saldo\n",
      "Observation: 1000\n",
      "FinalAnswer: \n",
      "---------\n",
      "OriginalResponse : [THOUGHT] O saldo atual é de 1000. Isso não é suficiente para pagar o boleto de maior valor (1500). Portanto, vamos pagar o boleto de 450 primeiro, pois o saldo é suficiente para isso.\n",
      "[ACTION] {\"action\": \"BankSkills.PagarBoleto\",\"action_variables\": {\"numeroBoleto\": \"1\"}}\n",
      "Thought: O saldo atual é de 1000. Isso não é suficiente para pagar o boleto de maior valor (1500). Portanto, vamos pagar o boleto de 450 primeiro, pois o saldo é suficiente para isso.\n",
      "Action: BankSkills.PagarBoleto\n",
      "Observation: Boleto 1 pago com sucesso!\n",
      "FinalAnswer: \n",
      "---------\n",
      "OriginalResponse : [THOUGHT] Agora que pagamos o boleto de 450, precisamos verificar o saldo novamente para ver se podemos pagar o próximo boleto.\n",
      "[ACTION] {\"action\": \"BankSkills.Saldo\",\"action_variables\": {}}\n",
      "Thought: Agora que pagamos o boleto de 450, precisamos verificar o saldo novamente para ver se podemos pagar o próximo boleto.\n",
      "Action: BankSkills.Saldo\n",
      "Observation: 550\n",
      "FinalAnswer: \n",
      "---------\n",
      "OriginalResponse : [THOUGHT] O saldo atual é de 550. Isso é suficiente para pagar o boleto de 150. Vamos pagar esse boleto agora.\n",
      "[ACTION] {\"action\": \"BankSkills.PagarBoleto\",\"action_variables\": {\"numeroBoleto\":\"2\"}}\n",
      "Thought: O saldo atual é de 550. Isso é suficiente para pagar o boleto de 150. Vamos pagar esse boleto agora.\n",
      "Action: BankSkills.PagarBoleto\n",
      "Observation: Boleto 2 pago com sucesso!\n",
      "FinalAnswer: \n",
      "---------\n",
      "OriginalResponse : [THOUGHT] Agora que pagamos o boleto de 150, precisamos verificar o saldo novamente para ver se podemos pagar o próximo boleto.\n",
      "[ACTION] {\"action\": \"BankSkills.Saldo\",\"action_variables\": {}}\n",
      "Thought: Agora que pagamos o boleto de 150, precisamos verificar o saldo novamente para ver se podemos pagar o próximo boleto.\n",
      "Action: BankSkills.Saldo\n",
      "Observation: 400\n",
      "FinalAnswer: \n",
      "---------\n",
      "OriginalResponse : [THOUGHT] O saldo atual é de 400. Isso não é suficiente para pagar o boleto de 1500. Portanto, não podemos pagar esse boleto. Agora, precisamos transferir 300 para o João, se o saldo permitir. Primeiro, precisamos obter o número da conta do João.\n",
      "[ACTION] {\"action\": \"BankSkills.ObterContaRelacionada\",\"action_variables\": {\"nomeConta\":\"João\"}}\n",
      "Thought: O saldo atual é de 400. Isso não é suficiente para pagar o boleto de 1500. Portanto, não podemos pagar esse boleto. Agora, precisamos transferir 300 para o João, se o saldo permitir. Primeiro, precisamos obter o número da conta do João.\n",
      "Action: BankSkills.ObterContaRelacionada\n",
      "Observation: Conta João encontrada! Número da Conta: 789 - E-mail para comprovantes:joao@contoso.com\n",
      "FinalAnswer: \n",
      "---------\n",
      "OriginalResponse : [THOUGHT] Agora que temos o número da conta do João, podemos transferir 300 para ele, pois o saldo atual é de 400, o que é suficiente para a transferência.\n",
      "[ACTION] {\"action\": \"BankSkills.Transferir\",\"action_variables\": {\"input\":\"789\", \"valor\":\"300\"}}\n",
      "Thought: Agora que temos o número da conta do João, podemos transferir 300 para ele, pois o saldo atual é de 400, o que é suficiente para a transferência.\n",
      "Action: BankSkills.Transferir\n",
      "Observation: Transferencia de 300 para 789 realizada com sucesso!\n",
      "FinalAnswer: \n",
      "---------\n",
      "OriginalResponse : [THOUGHT] Agora que transferimos 300 para o João, precisamos verificar o saldo final.\n",
      "[ACTION] {\"action\": \"BankSkills.Saldo\",\"action_variables\": {}}\n",
      "Thought: Agora que transferimos 300 para o João, precisamos verificar o saldo final.\n",
      "Action: BankSkills.Saldo\n",
      "Observation: 100\n",
      "FinalAnswer: \n",
      "---------\n",
      "OriginalResponse : [FINAL ANSWER] O saldo final é de 100. Os boletos que foram pagos são o boleto 1 (450) e o boleto 2 (150). Não foi possível pagar o boleto 3 (1500) devido à insuficiência de saldo. Além disso, foi realizada uma transferência de 300 para o João.\n",
      "Thought: \n",
      "Action: \n",
      "Observation: \n",
      "FinalAnswer: O saldo final é de 100. Os boletos que foram pagos são o boleto 1 (450) e o boleto 2 (150). Não foi possível pagar o boleto 3 (1500) devido à insuficiência de saldo. Além disso, foi realizada uma transferência de 300 para o João.\n",
      "Resposta:\n",
      "O saldo final é de 100. Os boletos que foram pagos são o boleto 1 (450) e o boleto 2 (150). Não foi possível pagar o boleto 3 (1500) devido à insuficiência de saldo. Além disso, foi realizada uma transferência de 300 para o João.\n"
     ]
    }
   ],
   "source": [
    "// Create a plan for the ask\n",
    "var ask = \"Pagar todos os boletos e tranferir 300 para o João. Não deixe o saldo negativo, e retorne o saldo final e os boletos que foram pagos. Priorize os de maior valor\";\n",
    "var plan = planner.CreatePlan(ask);\n",
    "\n",
    "//Console.WriteLine(\"Plan:\");\n",
    "//Console.WriteLine(plan.ToJson(true));\n",
    "// Execute the plan\n",
    "var result = await plan.InvokeAsync();\n",
    "\n",
    "\n",
    "\n",
    "var steps = JsonSerializer.Deserialize<List<SystemStep>>(result.Variables[\"stepsTaken\"]);\n",
    "Console.WriteLine(\"Steps taken:\");\n",
    "foreach (SystemStep step in steps)\n",
    "{\n",
    "    Console.WriteLine(\"---------\");\n",
    "    Console.WriteLine(\"OriginalResponse : \" + step.OriginalResponse );\n",
    "    Console.WriteLine(\"Thought: \" + step.Thought);\n",
    "    Console.WriteLine(\"Action: \" + step.Action);\n",
    "    Console.WriteLine(\"Observation: \" + step.Observation);\n",
    "    Console.WriteLine(\"FinalAnswer: \" + step.FinalAnswer);\n",
    "}\n",
    "\n",
    "Console.WriteLine(\"Resposta:\");\n",
    "Console.WriteLine(result.Result);\n"
   ]
  }
 ],
 "metadata": {
  "language_info": {
   "name": "python"
  },
  "orig_nbformat": 4
 },
 "nbformat": 4,
 "nbformat_minor": 2
}
